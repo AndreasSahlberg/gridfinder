{
 "cells": [
  {
   "cell_type": "code",
   "execution_count": 1,
   "metadata": {},
   "outputs": [],
   "source": [
    "%load_ext autoreload\n",
    "%autoreload 2"
   ]
  },
  {
   "cell_type": "code",
   "execution_count": 2,
   "metadata": {},
   "outputs": [],
   "source": [
    "import os\n",
    "from pathlib import Path\n",
    "\n",
    "import matplotlib.pyplot as plt\n",
    "from matplotlib import cm\n",
    "import matplotlib.animation as animation\n",
    "import seaborn as sns\n",
    "from IPython.display import display, Markdown\n",
    "\n",
    "import numpy as np\n",
    "import rasterio\n",
    "import geopandas as gpd\n",
    "\n",
    "from gridfinder._util import save_raster, clip_line_poly\n",
    "from gridfinder.prepare import clip_rasters, merge_rasters, create_filter, prepare_ntl, prepare_roads\n",
    "from gridfinder.gridfinder import get_targets_costs, optimise\n",
    "from gridfinder.post import threshold, accuracy, guess2geom"
   ]
  },
  {
   "cell_type": "markdown",
   "metadata": {},
   "source": [
    "## Enter country name and input parameters\n",
    "Valid country names listed in countries.csv"
   ]
  },
  {
   "cell_type": "code",
   "execution_count": 3,
   "metadata": {},
   "outputs": [],
   "source": [
    "country_name = 'South Africa'"
   ]
  },
  {
   "cell_type": "code",
   "execution_count": 4,
   "metadata": {},
   "outputs": [],
   "source": [
    "ntl_percentile = 70\n",
    "ntl_upsample = 2\n",
    "ntl_threshold = 2.1\n",
    "guess_cutoff = 0.5"
   ]
  },
  {
   "cell_type": "code",
   "execution_count": null,
   "metadata": {},
   "outputs": [],
   "source": [
    "ntl_folder_in = Path('NTL')\n",
    "roads_in = Path('roads') / f'{country_name.lower()}.gpkg'\n",
    "\n",
    "aoi_in = 'gadm_global.gpkg'\n",
    "aoi = gpd.read_file(aoi_in)\n",
    "aoi = aoi.loc[aoi['NAME_0'] == country_name]\n",
    "\n",
    "folder_out = Path(country_name)\n",
    "if not os.path.exists(folder_out):\n",
    "    os.makedirs(folder_out)\n",
    "\n",
    "ntl_folder_out = folder_out / 'NTL_clipped'\n",
    "ntl_merged_out = folder_out / 'ntl_merged.tif'\n",
    "ntl_thresh_out = folder_out / 'ntl_thresh.tif'\n",
    "roads_out = folder_out / 'roads.tif'\n",
    "dist_out = folder_out / 'dist.tif'\n",
    "guess_out = folder_out / 'guess.tif'\n",
    "final_out = folder_out / 'guess.gpkg'"
   ]
  },
  {
   "cell_type": "code",
   "execution_count": null,
   "metadata": {},
   "outputs": [],
   "source": [
    "clip_rasters(ntl_folder_in, ntl_folder_out, aoi)\n",
    "raster_merged, affine = merge_rasters(ntl_folder_out,\n",
    "                                      percentile=ntl_percentile)\n",
    "save_raster(ntl_merged_out, raster_merged, affine)\n",
    "plt.imshow(raster_merged, vmin=0, vmax=1)"
   ]
  },
  {
   "cell_type": "code",
   "execution_count": null,
   "metadata": {},
   "outputs": [],
   "source": [
    "ntl_filter = create_filter()\n",
    "ntl, ntl_filtered, ntl_interp, ntl_thresh, affine = prepare_ntl(\n",
    "    ntl_merged_out, aoi, ntl_filter=ntl_filter,\n",
    "    threshold=ntl_threshold, upsample_by=ntl_upsample)\n",
    "save_raster(ntl_thresh_out, ntl_thresh, affine)\n",
    "plt.imshow(ntl_thresh, cmap='viridis')"
   ]
  },
  {
   "cell_type": "code",
   "execution_count": null,
   "metadata": {},
   "outputs": [],
   "source": [
    "roads, roads_clipped, aoi, roads_raster, affine = prepare_roads(\n",
    "    roads_in, aoi, ntl_thresh.shape, affine)\n",
    "save_raster(roads_out, roads_raster, affine)\n",
    "plt.imshow(roads_raster, cmap='viridis')"
   ]
  },
  {
   "cell_type": "code",
   "execution_count": null,
   "metadata": {},
   "outputs": [],
   "source": [
    "targets, costs, start = get_targets_costs(ntl_thresh_out, roads_out)\n",
    "dist = optimise(targets, costs, start, display_progress=True)\n",
    "save_raster(dist_out, dist, transform)\n",
    "plt.imshow(dist)"
   ]
  },
  {
   "cell_type": "code",
   "execution_count": null,
   "metadata": {},
   "outputs": [],
   "source": [
    "dists_r, guess, transform = threshold(dists_in, cutoff=0.5)\n",
    "save_raster(guess_out, guess, transform)\n",
    "plt.imshow(guess, cmap='viridis')"
   ]
  },
  {
   "cell_type": "code",
   "execution_count": null,
   "metadata": {},
   "outputs": [],
   "source": [
    "guess_r, guess_geojson, guess_gdf = guess2geom(guess_out)\n",
    "guess_gdf.to_file(guess_vec_out, driver='GPKG')\n",
    "guess_gdf.plot()"
   ]
  }
 ],
 "metadata": {
  "kernelspec": {
   "display_name": "Python 3 (gridfinder)",
   "language": "python",
   "name": "gridfinder"
  },
  "language_info": {
   "codemirror_mode": {
    "name": "ipython",
    "version": 3
   },
   "file_extension": ".py",
   "mimetype": "text/x-python",
   "name": "python",
   "nbconvert_exporter": "python",
   "pygments_lexer": "ipython3",
   "version": "3.6.7"
  }
 },
 "nbformat": 4,
 "nbformat_minor": 2
}
